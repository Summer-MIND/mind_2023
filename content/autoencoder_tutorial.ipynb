{
  "nbformat": 4,
  "nbformat_minor": 0,
  "metadata": {
    "colab": {
      "provenance": [],
      "toc_visible": true,
      "gpuType": "T4"
    },
    "kernelspec": {
      "name": "python3",
      "display_name": "Python 3"
    },
    "language_info": {
      "name": "python"
    },
    "accelerator": "GPU"
  },
  "cells": [
    {
      "cell_type": "markdown",
      "source": [
        "# Introduction to autoencoders for psychologists\n",
        "#### Tutorial for Methods In Neuroscience at Dartmouth ([MIND](http://mindsummerschool.org/)) 2023\n",
        "By [Mark A. Thornton](http://markallenthornton.com/)\n",
        "\n",
        "This tutorial provides a guide to thinking about and programming autoencoders, a type of deep neural network architecture. This tutorial is designed to follow my basic introduction to programming deep nets in pytorch. If you haven't already seen that tutorial, you can find it [here](https://colab.research.google.com/drive/1VwGHNRitvehEqCe47M9J4dAQSF5KnYbg?usp=sharing).\n",
        "\n",
        "Autoencoders are a specialized class of deep neural networks that learn compressed representations of data. To accomplish this compression, autoencoders use a characteristic \"hourglass\" shape illustrated below.\n",
        "\n",
        "![](https://upload.wikimedia.org/wikipedia/commons/2/28/Autoencoder_structure.png)\n",
        "\n",
        "The hourglass consists of three parts:\n",
        "* An encoder, which compresses the input data through layers with smaller and smaller numbers of units.\n",
        "* A bottleneck layer, at the center of the network, which contains the lowest dimensional representation, or \"code\" for the input data.\n",
        "* A decoder, which learns to expand the highly compressed code in the bottleneck back out to produce an output that reconstructs the model's inputs.\n",
        "\n",
        "Here's we will learn about autoencoders in the context of compressing survey results, using PCA as a more familiar comparison case.\n"
      ],
      "metadata": {
        "id": "0o_BU_DqHtsH"
      }
    },
    {
      "cell_type": "markdown",
      "source": [
        "## Setup"
      ],
      "metadata": {
        "id": "kEIn4-ZhLre6"
      }
    },
    {
      "cell_type": "markdown",
      "source": [
        "### Import packages"
      ],
      "metadata": {
        "id": "tjtbAJyyLvQ4"
      }
    },
    {
      "cell_type": "code",
      "execution_count": null,
      "metadata": {
        "id": "ZHzRvYYVPDJm"
      },
      "outputs": [],
      "source": [
        "import urllib, os, zipfile\n",
        "import numpy as np\n",
        "import pandas as pd\n",
        "import seaborn as sns\n",
        "import matplotlib.pyplot as plt\n",
        "from sklearn.decomposition import PCA\n",
        "from sklearn.preprocessing import StandardScaler\n",
        "from sklearn.metrics import r2_score, mean_squared_error\n",
        "from scipy.linalg import orthogonal_procrustes\n",
        "from scipy.stats import zscore\n",
        "import torch\n",
        "from torch import nn\n",
        "from torch.utils.data import DataLoader, TensorDataset"
      ]
    },
    {
      "cell_type": "markdown",
      "source": [
        "### Detect and set hardware device\n",
        "Depending on where you run your notebook, you may be able to take advantage of different hardware. If a cuda-enable graphics card is available, this will be preferred. Mac chipsets (MPS) and traditional processors (CPU) are the fallback options. On Colab, you may want to change your runtime type to take advantage of the GPU runtimes they offer."
      ],
      "metadata": {
        "id": "HP_qxVWikiK_"
      }
    },
    {
      "cell_type": "code",
      "source": [
        "device = (\n",
        "    \"cuda\"\n",
        "    if torch.cuda.is_available()\n",
        "    else \"mps\"\n",
        "    if torch.backends.mps.is_available()\n",
        "    else \"cpu\"\n",
        ")\n",
        "print(f\"Using {device} device\")"
      ],
      "metadata": {
        "colab": {
          "base_uri": "https://localhost:8080/"
        },
        "id": "df-s6p7lkddN",
        "outputId": "9356cfe7-47df-41ec-e42e-36c56ba81613"
      },
      "execution_count": null,
      "outputs": [
        {
          "output_type": "stream",
          "name": "stdout",
          "text": [
            "Using cuda device\n"
          ]
        }
      ]
    },
    {
      "cell_type": "markdown",
      "source": [
        "### Prepare the data\n",
        "Check if data has been downloaded; if not, do so and unzip it.\n",
        "\n",
        "These data come from a 50-item Big Five survey collected by the Open-Source Psychometrics Project. They can be retrieved from https://openpsychometrics.org/_rawdata/ but I have rehosted them for this tutorial to avoid adding load to their server."
      ],
      "metadata": {
        "id": "Cc0wt-QYLx5I"
      }
    },
    {
      "cell_type": "code",
      "source": [
        "dfiles = os.listdir(\"./sample_data/\")\n",
        "fname = 'ipip_big5.csv'\n",
        "if not fname in dfiles:\n",
        "  datafile = urllib.request.URLopener()\n",
        "  datafile.retrieve(\"http://markallenthornton.com/data/ipip_big5.zip\", \"./sample_data/data.zip\")\n",
        "  with zipfile.ZipFile(\"./sample_data/data.zip\") as zip_ref:\n",
        "    zip_ref.extractall(\"./sample_data/\")"
      ],
      "metadata": {
        "id": "_UOSSLyzVQGF"
      },
      "execution_count": null,
      "outputs": []
    },
    {
      "cell_type": "markdown",
      "source": [
        "Load the data into Python, filter out unnecessary items and observations with missing values, then transform all values to the [0,1] interval."
      ],
      "metadata": {
        "id": "iNy9tmqOXwcl"
      }
    },
    {
      "cell_type": "code",
      "source": [
        "# load data\n",
        "dat = pd.read_csv('./sample_data/ipip_big5.csv', sep='\\t')\n",
        "dat = dat.iloc[:,:50]  # filters out variables except items\n",
        "dat = dat.loc[dat.min(1)!=0,]  # filters out missing values (0s)\n",
        "dat = (dat-1)/4 # transform to 0-1 scale\n",
        "dat.dropna(inplace=True)\n",
        "dat.shape"
      ],
      "metadata": {
        "colab": {
          "base_uri": "https://localhost:8080/"
        },
        "id": "BM02oLTZWtyt",
        "outputId": "a4efabba-243a-432e-decb-926b9af7138a"
      },
      "execution_count": null,
      "outputs": [
        {
          "output_type": "execute_result",
          "data": {
            "text/plain": [
              "(874434, 50)"
            ]
          },
          "metadata": {},
          "execution_count": 4
        }
      ]
    },
    {
      "cell_type": "markdown",
      "source": [
        "Reverse score the appropriate values."
      ],
      "metadata": {
        "id": "3wzLVqdOMs6b"
      }
    },
    {
      "cell_type": "code",
      "source": [
        "revd = [2, 4, 6, 8, 10, 11, 13, 15, 16, 17, 18, 19, 20, 21, 23, 25, 27, 32, 34, 36, 38, 42, 44, 46]\n",
        "revd = [r-1 for r in revd]\n",
        "for r in revd:\n",
        "    dat.iloc[:,r] = 1-dat.iloc[:,r]"
      ],
      "metadata": {
        "id": "kacikscgYODi"
      },
      "execution_count": null,
      "outputs": []
    },
    {
      "cell_type": "markdown",
      "source": [
        "Split the full dataset into training (90%), validation (5%), and test (5%) sets and scale to mean = 0, SD = 1 (based on training data parameters)."
      ],
      "metadata": {
        "id": "Ws6LwxTiM17f"
      }
    },
    {
      "cell_type": "code",
      "source": [
        "# split data\n",
        "train = dat.sample(frac=.9,random_state=0)\n",
        "testval = dat.drop(train.index)\n",
        "test = testval.sample(frac=.5,random_state=0)\n",
        "val = testval.drop(test.index)\n",
        "\n",
        "# scale data\n",
        "scaler = StandardScaler()\n",
        "scaler.fit(train)\n",
        "train = pd.DataFrame(scaler.transform(train))\n",
        "test = pd.DataFrame(scaler.transform(test))\n",
        "val = pd.DataFrame(scaler.transform(val))\n",
        "\n",
        "print((train.shape[0],test.shape[0],val.shape[0]))"
      ],
      "metadata": {
        "colab": {
          "base_uri": "https://localhost:8080/"
        },
        "id": "BDMnEcSCYr0B",
        "outputId": "27e4925c-e394-4b9a-81ff-351bd90593d8"
      },
      "execution_count": null,
      "outputs": [
        {
          "output_type": "stream",
          "name": "stdout",
          "text": [
            "(786991, 43722, 43721)\n"
          ]
        }
      ]
    },
    {
      "cell_type": "markdown",
      "source": [
        "Score the survey in the way that was intended (i.e., by taking the means of the subscales)"
      ],
      "metadata": {
        "id": "nc6gSHi6Nhdn"
      }
    },
    {
      "cell_type": "code",
      "source": [
        "# score 'appropriately' (mean of items)\n",
        "trainScored = pd.concat([train.iloc[:,:10].mean(1),\n",
        "             train.iloc[:,10:20].mean(1),\n",
        "             train.iloc[:,20:30].mean(1),\n",
        "             train.iloc[:,30:40].mean(1),\n",
        "             train.iloc[:,40:50].mean(1)],axis=1)\n",
        "\n",
        "testScored = pd.concat([test.iloc[:,:10].mean(1),\n",
        "             test.iloc[:,10:20].mean(1),\n",
        "             test.iloc[:,20:30].mean(1),\n",
        "             test.iloc[:,30:40].mean(1),\n",
        "             test.iloc[:,40:50].mean(1)],axis=1)"
      ],
      "metadata": {
        "id": "Xhp0vl1CYesf"
      },
      "execution_count": null,
      "outputs": []
    },
    {
      "cell_type": "markdown",
      "source": [
        "## Baseline\n",
        "\n",
        "Use the means of each subscale in the training set to predict the individual question ratings in the test set. This provides baseline metrics (root mean square error [RMSE] and R<sup>2</sup>) against which to compare our later models."
      ],
      "metadata": {
        "id": "ZIBxZux1Nsov"
      }
    },
    {
      "cell_type": "code",
      "source": [
        "# compute the mean factor scores\n",
        "ffmeans = trainScored.mean(axis=0)\n",
        "\n",
        "# make predictions about the test set\n",
        "ffmeanpred = np.repeat(np.ndarray((1,50),buffer=np.array(np.repeat(ffmeans,10))),test.shape[0],axis=0)\n",
        "\n",
        "# compute metrics\n",
        "rmse = np.sqrt(mean_squared_error(test,ffmeanpred))\n",
        "\n",
        "# R2\n",
        "r2 = r2_score(test,ffmeanpred)\n",
        "\n",
        "print(\"RMSE = \" + str(rmse) + \", R2 = \" + str(r2))"
      ],
      "metadata": {
        "colab": {
          "base_uri": "https://localhost:8080/"
        },
        "id": "t2lm0z_mYx9m",
        "outputId": "102bed99-8a71-4016-c270-66b210a7a0f3"
      },
      "execution_count": null,
      "outputs": [
        {
          "output_type": "stream",
          "name": "stdout",
          "text": [
            "RMSE = 0.9980879091702006, R2 = -2.0687293782364335e-05\n"
          ]
        }
      ]
    },
    {
      "cell_type": "markdown",
      "source": [
        "Given the standardization of the data, an RMSE around 1, and R2 around 0 is what we would expect for this baseline."
      ],
      "metadata": {
        "id": "FOzPiyMil1kv"
      }
    },
    {
      "cell_type": "markdown",
      "source": [
        "## Scoring\n",
        "Now let's score each participant's data individually (i.e., the way that we would actually score their Big 5 questionnaire, giving equal weight to each question within a subscale)."
      ],
      "metadata": {
        "id": "w5hSvFM1mQFD"
      }
    },
    {
      "cell_type": "code",
      "source": [
        "# individual scoring performance\n",
        "ffind = np.repeat(np.array(testScored),10,1)\n",
        "\n",
        "# compute metrics\n",
        "rmse = np.sqrt(mean_squared_error(test,ffind))\n",
        "\n",
        "# R2\n",
        "r2 = r2_score(test,ffind)\n",
        "\n",
        "print(\"RMSE = \" + str(rmse) + \", R2 = \" + str(r2))"
      ],
      "metadata": {
        "colab": {
          "base_uri": "https://localhost:8080/"
        },
        "id": "2t5p4QrilNS5",
        "outputId": "cc6de81a-32b0-4d73-935f-be48ee0d40f0"
      },
      "execution_count": null,
      "outputs": [
        {
          "output_type": "stream",
          "name": "stdout",
          "text": [
            "RMSE = 0.7551913272726057, R2 = 0.42766950509958934\n"
          ]
        }
      ]
    },
    {
      "cell_type": "markdown",
      "source": [
        "As we might hope, scoring the Big 5 properly does a much better job than assuming the scale mean for each item. The RMSE decreases to about 3/4 of baseline error, and variance explained increases to over 40%. However, the scoring procedure assumes that each item in a subscale should be equally weighted. This works reasonably well here because that is how the scale was constructed to operate, but can we do better by dropping this assumption and using PCA instead?"
      ],
      "metadata": {
        "id": "MDjyrg2smhFG"
      }
    },
    {
      "cell_type": "markdown",
      "source": [
        "## PCA\n",
        "Here we perform a principal component analysis with a five-factor solution."
      ],
      "metadata": {
        "id": "JcWSF4Cnm96t"
      }
    },
    {
      "cell_type": "code",
      "source": [
        "# perform PCA on training data\n",
        "trainpca = PCA(n_components=5,)\n",
        "trainpca.fit(train)"
      ],
      "metadata": {
        "colab": {
          "base_uri": "https://localhost:8080/",
          "height": 74
        },
        "id": "uwHT7eO9aCqJ",
        "outputId": "35fad4a3-db82-45ba-c89f-b5593aafe3a6"
      },
      "execution_count": null,
      "outputs": [
        {
          "output_type": "execute_result",
          "data": {
            "text/plain": [
              "PCA(n_components=5)"
            ],
            "text/html": [
              "<style>#sk-container-id-1 {color: black;background-color: white;}#sk-container-id-1 pre{padding: 0;}#sk-container-id-1 div.sk-toggleable {background-color: white;}#sk-container-id-1 label.sk-toggleable__label {cursor: pointer;display: block;width: 100%;margin-bottom: 0;padding: 0.3em;box-sizing: border-box;text-align: center;}#sk-container-id-1 label.sk-toggleable__label-arrow:before {content: \"▸\";float: left;margin-right: 0.25em;color: #696969;}#sk-container-id-1 label.sk-toggleable__label-arrow:hover:before {color: black;}#sk-container-id-1 div.sk-estimator:hover label.sk-toggleable__label-arrow:before {color: black;}#sk-container-id-1 div.sk-toggleable__content {max-height: 0;max-width: 0;overflow: hidden;text-align: left;background-color: #f0f8ff;}#sk-container-id-1 div.sk-toggleable__content pre {margin: 0.2em;color: black;border-radius: 0.25em;background-color: #f0f8ff;}#sk-container-id-1 input.sk-toggleable__control:checked~div.sk-toggleable__content {max-height: 200px;max-width: 100%;overflow: auto;}#sk-container-id-1 input.sk-toggleable__control:checked~label.sk-toggleable__label-arrow:before {content: \"▾\";}#sk-container-id-1 div.sk-estimator input.sk-toggleable__control:checked~label.sk-toggleable__label {background-color: #d4ebff;}#sk-container-id-1 div.sk-label input.sk-toggleable__control:checked~label.sk-toggleable__label {background-color: #d4ebff;}#sk-container-id-1 input.sk-hidden--visually {border: 0;clip: rect(1px 1px 1px 1px);clip: rect(1px, 1px, 1px, 1px);height: 1px;margin: -1px;overflow: hidden;padding: 0;position: absolute;width: 1px;}#sk-container-id-1 div.sk-estimator {font-family: monospace;background-color: #f0f8ff;border: 1px dotted black;border-radius: 0.25em;box-sizing: border-box;margin-bottom: 0.5em;}#sk-container-id-1 div.sk-estimator:hover {background-color: #d4ebff;}#sk-container-id-1 div.sk-parallel-item::after {content: \"\";width: 100%;border-bottom: 1px solid gray;flex-grow: 1;}#sk-container-id-1 div.sk-label:hover label.sk-toggleable__label {background-color: #d4ebff;}#sk-container-id-1 div.sk-serial::before {content: \"\";position: absolute;border-left: 1px solid gray;box-sizing: border-box;top: 0;bottom: 0;left: 50%;z-index: 0;}#sk-container-id-1 div.sk-serial {display: flex;flex-direction: column;align-items: center;background-color: white;padding-right: 0.2em;padding-left: 0.2em;position: relative;}#sk-container-id-1 div.sk-item {position: relative;z-index: 1;}#sk-container-id-1 div.sk-parallel {display: flex;align-items: stretch;justify-content: center;background-color: white;position: relative;}#sk-container-id-1 div.sk-item::before, #sk-container-id-1 div.sk-parallel-item::before {content: \"\";position: absolute;border-left: 1px solid gray;box-sizing: border-box;top: 0;bottom: 0;left: 50%;z-index: -1;}#sk-container-id-1 div.sk-parallel-item {display: flex;flex-direction: column;z-index: 1;position: relative;background-color: white;}#sk-container-id-1 div.sk-parallel-item:first-child::after {align-self: flex-end;width: 50%;}#sk-container-id-1 div.sk-parallel-item:last-child::after {align-self: flex-start;width: 50%;}#sk-container-id-1 div.sk-parallel-item:only-child::after {width: 0;}#sk-container-id-1 div.sk-dashed-wrapped {border: 1px dashed gray;margin: 0 0.4em 0.5em 0.4em;box-sizing: border-box;padding-bottom: 0.4em;background-color: white;}#sk-container-id-1 div.sk-label label {font-family: monospace;font-weight: bold;display: inline-block;line-height: 1.2em;}#sk-container-id-1 div.sk-label-container {text-align: center;}#sk-container-id-1 div.sk-container {/* jupyter's `normalize.less` sets `[hidden] { display: none; }` but bootstrap.min.css set `[hidden] { display: none !important; }` so we also need the `!important` here to be able to override the default hidden behavior on the sphinx rendered scikit-learn.org. See: https://github.com/scikit-learn/scikit-learn/issues/21755 */display: inline-block !important;position: relative;}#sk-container-id-1 div.sk-text-repr-fallback {display: none;}</style><div id=\"sk-container-id-1\" class=\"sk-top-container\"><div class=\"sk-text-repr-fallback\"><pre>PCA(n_components=5)</pre><b>In a Jupyter environment, please rerun this cell to show the HTML representation or trust the notebook. <br />On GitHub, the HTML representation is unable to render, please try loading this page with nbviewer.org.</b></div><div class=\"sk-container\" hidden><div class=\"sk-item\"><div class=\"sk-estimator sk-toggleable\"><input class=\"sk-toggleable__control sk-hidden--visually\" id=\"sk-estimator-id-1\" type=\"checkbox\" checked><label for=\"sk-estimator-id-1\" class=\"sk-toggleable__label sk-toggleable__label-arrow\">PCA</label><div class=\"sk-toggleable__content\"><pre>PCA(n_components=5)</pre></div></div></div></div></div>"
            ]
          },
          "metadata": {},
          "execution_count": 10
        }
      ]
    },
    {
      "cell_type": "markdown",
      "source": [
        "Next we apply this PCA to predict item-level ratings in the held-out test set."
      ],
      "metadata": {
        "id": "9rUvPmUwnJZ4"
      }
    },
    {
      "cell_type": "code",
      "source": [
        "# apply PCA to test data and evaluate fit\n",
        "testscores = trainpca.transform(test)\n",
        "ffpca = trainpca.inverse_transform(testscores)\n",
        "\n",
        "# compute metrics\n",
        "rmse = np.sqrt(mean_squared_error(test,ffpca))\n",
        "\n",
        "# R2\n",
        "r2 = r2_score(test,ffpca)\n",
        "\n",
        "print(\"RMSE = \" + str(rmse) + \", R2 = \" + str(r2))"
      ],
      "metadata": {
        "colab": {
          "base_uri": "https://localhost:8080/"
        },
        "id": "DWBGVohtaKtO",
        "outputId": "b80bc9be-a1d4-4cfa-8071-f7f21b01b0fd"
      },
      "execution_count": null,
      "outputs": [
        {
          "output_type": "stream",
          "name": "stdout",
          "text": [
            "RMSE = 0.731608564621871, R2 = 0.46284261823824274\n"
          ]
        }
      ]
    },
    {
      "cell_type": "markdown",
      "source": [
        "The PCA does better than the scoring method in terms of both of our metrics of interest, but the difference in slight.\n",
        "\n",
        "PCA performs a linear compression of the survey data. To see whether a nonlinear compression could perform better, we will now turn to an autoencoder"
      ],
      "metadata": {
        "id": "dWPWI4psnYSJ"
      }
    },
    {
      "cell_type": "markdown",
      "source": [
        "## Autoencoder\n",
        "In the cell below, we define the structure of our autoencoder. It consists of ReLU layers (with the exception of the bottleneck and output layers) that decrease from 128 units to 8 units in powers of two in the decoder, followed by a 5 unit bottleneck, and then reexpansion out to 128 units before reconstructing the length 50 input as the output. Batch normalization is applied after each ReLU layer."
      ],
      "metadata": {
        "id": "tMJPtS7-nwpB"
      }
    },
    {
      "cell_type": "code",
      "source": [
        "# define model architecture\n",
        "class autoencoder(nn.Module):\n",
        "    def __init__(self):\n",
        "        super().__init__()\n",
        "        self.layer_stack = nn.Sequential(\n",
        "            nn.Linear(50,128),\n",
        "            nn.ReLU(),\n",
        "            nn.BatchNorm1d(128),\n",
        "            nn.Linear(128,64),\n",
        "            nn.ReLU(),\n",
        "            nn.BatchNorm1d(64),\n",
        "            nn.Linear(64,32),\n",
        "            nn.ReLU(),\n",
        "            nn.BatchNorm1d(32),\n",
        "            nn.Linear(32,16),\n",
        "            nn.ReLU(),\n",
        "            nn.BatchNorm1d(16),\n",
        "            nn.Linear(16,8),\n",
        "            nn.ReLU(),\n",
        "            nn.BatchNorm1d(8),\n",
        "            nn.Linear(8,5),\n",
        "            nn.Linear(5,8),\n",
        "            nn.ReLU(),\n",
        "            nn.BatchNorm1d(8),\n",
        "            nn.Linear(8,16),\n",
        "            nn.ReLU(),\n",
        "            nn.BatchNorm1d(16),\n",
        "            nn.Linear(16,32),\n",
        "            nn.ReLU(),\n",
        "            nn.BatchNorm1d(32),\n",
        "            nn.Linear(32,64),\n",
        "            nn.ReLU(),\n",
        "            nn.BatchNorm1d(64),\n",
        "            nn.Linear(64,128),\n",
        "            nn.ReLU(),\n",
        "            nn.BatchNorm1d(128),\n",
        "            nn.Linear(128,50)\n",
        "        )\n",
        "\n",
        "    def forward(self, x):\n",
        "        pred = self.layer_stack(x)\n",
        "        return pred\n",
        "\n",
        "ae = autoencoder().to(device)"
      ],
      "metadata": {
        "id": "jGKak4YUasLp"
      },
      "execution_count": null,
      "outputs": []
    },
    {
      "cell_type": "markdown",
      "source": [
        "The class defined the cell below allows us to perform early stopping to prevent overfitting of the autoencoder."
      ],
      "metadata": {
        "id": "DmweX_nPoVCK"
      }
    },
    {
      "cell_type": "code",
      "source": [
        "class EarlyStopper:\n",
        "    def __init__(self, patience=1, min_delta=0):\n",
        "        self.patience = patience\n",
        "        self.min_delta = min_delta\n",
        "        self.counter = 0\n",
        "        self.min_validation_loss = np.inf\n",
        "\n",
        "    def early_stop(self, validation_loss):\n",
        "        if validation_loss < self.min_validation_loss:\n",
        "            self.min_validation_loss = validation_loss\n",
        "            self.counter = 0\n",
        "        elif validation_loss > (self.min_validation_loss + self.min_delta):\n",
        "            self.counter += 1\n",
        "            if self.counter >= self.patience:\n",
        "                return True\n",
        "        return False"
      ],
      "metadata": {
        "id": "Wrtk0DomdGTI"
      },
      "execution_count": null,
      "outputs": []
    },
    {
      "cell_type": "markdown",
      "source": [
        "Next we set the batch size, turn our dataframes into tensors, then tensor datasets, and finally put them into dataloaders."
      ],
      "metadata": {
        "id": "c3IedI5HoqDv"
      }
    },
    {
      "cell_type": "code",
      "source": [
        "batch_size=128\n",
        "\n",
        "train_tensor = torch.from_numpy(np.float32(train))\n",
        "train_dataset = TensorDataset(train_tensor, train_tensor)\n",
        "train_dataloader = DataLoader(train_dataset, batch_size=batch_size, shuffle=True)\n",
        "\n",
        "test_tensor = torch.from_numpy(np.float32(test))\n",
        "test_dataset = TensorDataset(test_tensor, test_tensor)\n",
        "test_dataloader = DataLoader(test_dataset, batch_size=batch_size, shuffle=True)\n",
        "\n",
        "val_tensor = torch.from_numpy(np.float32(val))\n",
        "val_dataset = TensorDataset(val_tensor, val_tensor)\n",
        "val_dataloader = DataLoader(val_dataset, batch_size=batch_size, shuffle=True)\n"
      ],
      "metadata": {
        "id": "liQLa94ldXYE"
      },
      "execution_count": null,
      "outputs": []
    },
    {
      "cell_type": "markdown",
      "source": [
        "The function below defines our training procedure for a single epoch."
      ],
      "metadata": {
        "id": "vNgsfxx1ozbQ"
      }
    },
    {
      "cell_type": "code",
      "source": [
        "def train_nn(dataloader, model, loss_fn, optimizer):\n",
        "    size = len(dataloader.dataset)\n",
        "    model.train()\n",
        "    for batch, (X, y) in enumerate(dataloader):\n",
        "        # note that we're actually using the GPU here\n",
        "        X, y = X.to(device), y.to(device)\n",
        "\n",
        "        # Compute prediction error\n",
        "        pred = model(X)\n",
        "        loss = loss_fn(pred, y)\n",
        "\n",
        "        # Backpropagation\n",
        "        loss.backward()\n",
        "        optimizer.step()\n",
        "        optimizer.zero_grad()\n",
        "\n",
        "        if batch % 100 == 0:\n",
        "            loss, current = loss.item(), (batch + 1) * len(X)\n",
        "            print(f\"loss: {loss:>7f}  [{current:>5d}/{size:>5d}]\")"
      ],
      "metadata": {
        "id": "TnFy0-wcfFd-"
      },
      "execution_count": null,
      "outputs": []
    },
    {
      "cell_type": "markdown",
      "source": [
        "The function below allows us to test the performance of our model on a new dataloader."
      ],
      "metadata": {
        "id": "YoXEzOHNo7wU"
      }
    },
    {
      "cell_type": "code",
      "source": [
        "# define test function\n",
        "def test_nn(dataloader, model, loss_fn):\n",
        "    size = len(dataloader.dataset)\n",
        "    num_batches = len(dataloader)\n",
        "    model.eval()\n",
        "    test_loss, r2 = 0, 0 # evaluate loss (MSE, and R^2)\n",
        "    with torch.no_grad():\n",
        "        for X, y in dataloader:\n",
        "            X, y = X.to(device), y.to(device)\n",
        "            pred = model(X)\n",
        "            test_loss += loss_fn(pred, y).item()\n",
        "            r2 += 1 - torch.sum((y-pred)**2) / torch.sum(y **2)\n",
        "    test_loss /= num_batches\n",
        "    r2 /= num_batches\n",
        "    print(f\"Performance: \\n R^2: {r2:>8f}, RMSE: {np.sqrt(test_loss):>8f} \\n\")\n",
        "    return r2.cpu().numpy(), test_loss"
      ],
      "metadata": {
        "id": "uUYiJPXSfLAX"
      },
      "execution_count": null,
      "outputs": []
    },
    {
      "cell_type": "markdown",
      "source": [
        "Now we'll train the autoencoder."
      ],
      "metadata": {
        "id": "orHf-ttTpAZ_"
      }
    },
    {
      "cell_type": "code",
      "source": [
        "# set random seeds\n",
        "torch.manual_seed(0) # pytorch's random seed\n",
        "np.random.seed(0) # numpy's random seed\n",
        "early_stopper = EarlyStopper(patience=1, min_delta=0)\n",
        "loss = nn.MSELoss()\n",
        "optimizer = torch.optim.Adam(ae.parameters(),lr=.001)\n",
        "epochs = 100\n",
        "for t in range(epochs):\n",
        "    print(f\"Epoch {t+1}\\n-------------------------------\")\n",
        "    train_nn(train_dataloader, ae, loss, optimizer)\n",
        "    val_loss = test_nn(val_dataloader, ae, loss)[1]\n",
        "    if early_stopper.early_stop(val_loss):\n",
        "        break\n",
        "print(\"Done!\")"
      ],
      "metadata": {
        "colab": {
          "base_uri": "https://localhost:8080/"
        },
        "id": "O--DK8mLdN5E",
        "outputId": "8a8c48a9-95a4-47ce-bfea-db3ed1b49ec1"
      },
      "execution_count": null,
      "outputs": [
        {
          "output_type": "stream",
          "name": "stdout",
          "text": [
            "Epoch 1\n",
            "-------------------------------\n",
            "loss: 1.381381  [  128/786991]\n",
            "loss: 0.808010  [12928/786991]\n",
            "loss: 0.787175  [25728/786991]\n",
            "loss: 0.651829  [38528/786991]\n",
            "loss: 0.699782  [51328/786991]\n",
            "loss: 0.641226  [64128/786991]\n",
            "loss: 0.548250  [76928/786991]\n",
            "loss: 0.574619  [89728/786991]\n",
            "loss: 0.592357  [102528/786991]\n",
            "loss: 0.607343  [115328/786991]\n",
            "loss: 0.594988  [128128/786991]\n",
            "loss: 0.600100  [140928/786991]\n",
            "loss: 0.566155  [153728/786991]\n",
            "loss: 0.614944  [166528/786991]\n",
            "loss: 0.614284  [179328/786991]\n",
            "loss: 0.569217  [192128/786991]\n",
            "loss: 0.598552  [204928/786991]\n",
            "loss: 0.629417  [217728/786991]\n",
            "loss: 0.584816  [230528/786991]\n",
            "loss: 0.568159  [243328/786991]\n",
            "loss: 0.572322  [256128/786991]\n",
            "loss: 0.602150  [268928/786991]\n",
            "loss: 0.580945  [281728/786991]\n",
            "loss: 0.589399  [294528/786991]\n",
            "loss: 0.583255  [307328/786991]\n",
            "loss: 0.595573  [320128/786991]\n",
            "loss: 0.561147  [332928/786991]\n",
            "loss: 0.607054  [345728/786991]\n",
            "loss: 0.588312  [358528/786991]\n",
            "loss: 0.606857  [371328/786991]\n",
            "loss: 0.606584  [384128/786991]\n",
            "loss: 0.566202  [396928/786991]\n",
            "loss: 0.564343  [409728/786991]\n",
            "loss: 0.608810  [422528/786991]\n",
            "loss: 0.623708  [435328/786991]\n",
            "loss: 0.546184  [448128/786991]\n",
            "loss: 0.587713  [460928/786991]\n",
            "loss: 0.531495  [473728/786991]\n",
            "loss: 0.579431  [486528/786991]\n",
            "loss: 0.574155  [499328/786991]\n",
            "loss: 0.527481  [512128/786991]\n",
            "loss: 0.560739  [524928/786991]\n",
            "loss: 0.542594  [537728/786991]\n",
            "loss: 0.563898  [550528/786991]\n",
            "loss: 0.546413  [563328/786991]\n",
            "loss: 0.550738  [576128/786991]\n",
            "loss: 0.595592  [588928/786991]\n",
            "loss: 0.600887  [601728/786991]\n",
            "loss: 0.577264  [614528/786991]\n",
            "loss: 0.539533  [627328/786991]\n",
            "loss: 0.588137  [640128/786991]\n",
            "loss: 0.552017  [652928/786991]\n",
            "loss: 0.574613  [665728/786991]\n",
            "loss: 0.563369  [678528/786991]\n",
            "loss: 0.524398  [691328/786991]\n",
            "loss: 0.530872  [704128/786991]\n",
            "loss: 0.546786  [716928/786991]\n",
            "loss: 0.543316  [729728/786991]\n",
            "loss: 0.549501  [742528/786991]\n",
            "loss: 0.538662  [755328/786991]\n",
            "loss: 0.547396  [768128/786991]\n",
            "loss: 0.540128  [780928/786991]\n",
            "Performance: \n",
            " R^2: 0.445710, RMSE: 0.743082 \n",
            "\n",
            "Epoch 2\n",
            "-------------------------------\n",
            "loss: 0.581356  [  128/786991]\n",
            "loss: 0.576343  [12928/786991]\n",
            "loss: 0.538165  [25728/786991]\n",
            "loss: 0.569860  [38528/786991]\n",
            "loss: 0.542284  [51328/786991]\n",
            "loss: 0.540319  [64128/786991]\n",
            "loss: 0.542121  [76928/786991]\n",
            "loss: 0.567295  [89728/786991]\n",
            "loss: 0.572850  [102528/786991]\n",
            "loss: 0.548670  [115328/786991]\n",
            "loss: 0.518049  [128128/786991]\n",
            "loss: 0.510620  [140928/786991]\n",
            "loss: 0.510832  [153728/786991]\n",
            "loss: 0.578314  [166528/786991]\n",
            "loss: 0.550837  [179328/786991]\n",
            "loss: 0.531730  [192128/786991]\n",
            "loss: 0.534473  [204928/786991]\n",
            "loss: 0.527316  [217728/786991]\n",
            "loss: 0.505620  [230528/786991]\n",
            "loss: 0.523841  [243328/786991]\n",
            "loss: 0.537340  [256128/786991]\n",
            "loss: 0.484429  [268928/786991]\n",
            "loss: 0.475819  [281728/786991]\n",
            "loss: 0.559521  [294528/786991]\n",
            "loss: 0.568359  [307328/786991]\n",
            "loss: 0.520667  [320128/786991]\n",
            "loss: 0.475745  [332928/786991]\n",
            "loss: 0.481422  [345728/786991]\n",
            "loss: 0.541088  [358528/786991]\n",
            "loss: 0.521733  [371328/786991]\n",
            "loss: 0.539423  [384128/786991]\n",
            "loss: 0.558421  [396928/786991]\n",
            "loss: 0.516178  [409728/786991]\n",
            "loss: 0.545732  [422528/786991]\n",
            "loss: 0.510520  [435328/786991]\n",
            "loss: 0.530255  [448128/786991]\n",
            "loss: 0.522389  [460928/786991]\n",
            "loss: 0.544091  [473728/786991]\n",
            "loss: 0.507075  [486528/786991]\n",
            "loss: 0.528195  [499328/786991]\n",
            "loss: 0.549312  [512128/786991]\n",
            "loss: 0.548037  [524928/786991]\n",
            "loss: 0.524154  [537728/786991]\n",
            "loss: 0.557498  [550528/786991]\n",
            "loss: 0.530746  [563328/786991]\n",
            "loss: 0.550896  [576128/786991]\n",
            "loss: 0.506411  [588928/786991]\n",
            "loss: 0.525843  [601728/786991]\n",
            "loss: 0.533281  [614528/786991]\n",
            "loss: 0.554565  [627328/786991]\n",
            "loss: 0.512287  [640128/786991]\n",
            "loss: 0.527376  [652928/786991]\n",
            "loss: 0.506266  [665728/786991]\n",
            "loss: 0.565507  [678528/786991]\n",
            "loss: 0.523003  [691328/786991]\n",
            "loss: 0.501312  [704128/786991]\n",
            "loss: 0.555041  [716928/786991]\n",
            "loss: 0.500508  [729728/786991]\n",
            "loss: 0.526605  [742528/786991]\n",
            "loss: 0.537569  [755328/786991]\n",
            "loss: 0.482678  [768128/786991]\n",
            "loss: 0.512443  [780928/786991]\n",
            "Performance: \n",
            " R^2: 0.488428, RMSE: 0.713865 \n",
            "\n",
            "Epoch 3\n",
            "-------------------------------\n",
            "loss: 0.494248  [  128/786991]\n",
            "loss: 0.538949  [12928/786991]\n",
            "loss: 0.533517  [25728/786991]\n",
            "loss: 0.556363  [38528/786991]\n",
            "loss: 0.485362  [51328/786991]\n",
            "loss: 0.508803  [64128/786991]\n",
            "loss: 0.555400  [76928/786991]\n",
            "loss: 0.523322  [89728/786991]\n",
            "loss: 0.522090  [102528/786991]\n",
            "loss: 0.569530  [115328/786991]\n",
            "loss: 0.538021  [128128/786991]\n",
            "loss: 0.513764  [140928/786991]\n",
            "loss: 0.525888  [153728/786991]\n",
            "loss: 0.497379  [166528/786991]\n",
            "loss: 0.522018  [179328/786991]\n",
            "loss: 0.529834  [192128/786991]\n",
            "loss: 0.502123  [204928/786991]\n",
            "loss: 0.519386  [217728/786991]\n",
            "loss: 0.532086  [230528/786991]\n",
            "loss: 0.494880  [243328/786991]\n",
            "loss: 0.492824  [256128/786991]\n",
            "loss: 0.501412  [268928/786991]\n",
            "loss: 0.502325  [281728/786991]\n",
            "loss: 0.536450  [294528/786991]\n",
            "loss: 0.475880  [307328/786991]\n",
            "loss: 0.514011  [320128/786991]\n",
            "loss: 0.517949  [332928/786991]\n",
            "loss: 0.532189  [345728/786991]\n",
            "loss: 0.476256  [358528/786991]\n",
            "loss: 0.544477  [371328/786991]\n",
            "loss: 0.513465  [384128/786991]\n",
            "loss: 0.510476  [396928/786991]\n",
            "loss: 0.512786  [409728/786991]\n",
            "loss: 0.505997  [422528/786991]\n",
            "loss: 0.550501  [435328/786991]\n",
            "loss: 0.491287  [448128/786991]\n",
            "loss: 0.514817  [460928/786991]\n",
            "loss: 0.476437  [473728/786991]\n",
            "loss: 0.514649  [486528/786991]\n",
            "loss: 0.502649  [499328/786991]\n",
            "loss: 0.504462  [512128/786991]\n",
            "loss: 0.495073  [524928/786991]\n",
            "loss: 0.502039  [537728/786991]\n",
            "loss: 0.528314  [550528/786991]\n",
            "loss: 0.498849  [563328/786991]\n",
            "loss: 0.503437  [576128/786991]\n",
            "loss: 0.503335  [588928/786991]\n",
            "loss: 0.506433  [601728/786991]\n",
            "loss: 0.518092  [614528/786991]\n",
            "loss: 0.506114  [627328/786991]\n",
            "loss: 0.569227  [640128/786991]\n",
            "loss: 0.524341  [652928/786991]\n",
            "loss: 0.552468  [665728/786991]\n",
            "loss: 0.544550  [678528/786991]\n",
            "loss: 0.487729  [691328/786991]\n",
            "loss: 0.482548  [704128/786991]\n",
            "loss: 0.518818  [716928/786991]\n",
            "loss: 0.481246  [729728/786991]\n",
            "loss: 0.523766  [742528/786991]\n",
            "loss: 0.514103  [755328/786991]\n",
            "loss: 0.520792  [768128/786991]\n",
            "loss: 0.498576  [780928/786991]\n",
            "Performance: \n",
            " R^2: 0.494445, RMSE: 0.709651 \n",
            "\n",
            "Epoch 4\n",
            "-------------------------------\n",
            "loss: 0.504738  [  128/786991]\n",
            "loss: 0.508473  [12928/786991]\n",
            "loss: 0.523681  [25728/786991]\n",
            "loss: 0.508766  [38528/786991]\n",
            "loss: 0.525337  [51328/786991]\n",
            "loss: 0.505255  [64128/786991]\n",
            "loss: 0.513530  [76928/786991]\n",
            "loss: 0.508912  [89728/786991]\n",
            "loss: 0.509716  [102528/786991]\n",
            "loss: 0.482944  [115328/786991]\n",
            "loss: 0.520289  [128128/786991]\n",
            "loss: 0.506963  [140928/786991]\n",
            "loss: 0.525367  [153728/786991]\n",
            "loss: 0.493516  [166528/786991]\n",
            "loss: 0.522452  [179328/786991]\n",
            "loss: 0.480405  [192128/786991]\n",
            "loss: 0.515450  [204928/786991]\n",
            "loss: 0.524694  [217728/786991]\n",
            "loss: 0.547909  [230528/786991]\n",
            "loss: 0.497184  [243328/786991]\n",
            "loss: 0.490725  [256128/786991]\n",
            "loss: 0.497367  [268928/786991]\n",
            "loss: 0.517799  [281728/786991]\n",
            "loss: 0.533765  [294528/786991]\n",
            "loss: 0.504540  [307328/786991]\n",
            "loss: 0.472663  [320128/786991]\n",
            "loss: 0.545336  [332928/786991]\n",
            "loss: 0.537826  [345728/786991]\n",
            "loss: 0.542009  [358528/786991]\n",
            "loss: 0.521217  [371328/786991]\n",
            "loss: 0.511429  [384128/786991]\n",
            "loss: 0.533820  [396928/786991]\n",
            "loss: 0.502363  [409728/786991]\n",
            "loss: 0.518243  [422528/786991]\n",
            "loss: 0.520844  [435328/786991]\n",
            "loss: 0.518942  [448128/786991]\n",
            "loss: 0.461996  [460928/786991]\n",
            "loss: 0.515288  [473728/786991]\n",
            "loss: 0.519074  [486528/786991]\n",
            "loss: 0.512588  [499328/786991]\n",
            "loss: 0.487156  [512128/786991]\n",
            "loss: 0.517504  [524928/786991]\n",
            "loss: 0.493035  [537728/786991]\n",
            "loss: 0.523385  [550528/786991]\n",
            "loss: 0.486832  [563328/786991]\n",
            "loss: 0.518732  [576128/786991]\n",
            "loss: 0.491881  [588928/786991]\n",
            "loss: 0.539362  [601728/786991]\n",
            "loss: 0.539332  [614528/786991]\n",
            "loss: 0.490394  [627328/786991]\n",
            "loss: 0.503770  [640128/786991]\n",
            "loss: 0.559107  [652928/786991]\n",
            "loss: 0.524802  [665728/786991]\n",
            "loss: 0.484257  [678528/786991]\n",
            "loss: 0.539800  [691328/786991]\n",
            "loss: 0.499123  [704128/786991]\n",
            "loss: 0.497758  [716928/786991]\n",
            "loss: 0.533174  [729728/786991]\n",
            "loss: 0.524621  [742528/786991]\n",
            "loss: 0.511205  [755328/786991]\n",
            "loss: 0.528876  [768128/786991]\n",
            "loss: 0.522915  [780928/786991]\n",
            "Performance: \n",
            " R^2: 0.497339, RMSE: 0.707639 \n",
            "\n",
            "Epoch 5\n",
            "-------------------------------\n",
            "loss: 0.544536  [  128/786991]\n",
            "loss: 0.487253  [12928/786991]\n",
            "loss: 0.514132  [25728/786991]\n",
            "loss: 0.497079  [38528/786991]\n",
            "loss: 0.481971  [51328/786991]\n",
            "loss: 0.521344  [64128/786991]\n",
            "loss: 0.481591  [76928/786991]\n",
            "loss: 0.501912  [89728/786991]\n",
            "loss: 0.492887  [102528/786991]\n",
            "loss: 0.525663  [115328/786991]\n",
            "loss: 0.538664  [128128/786991]\n",
            "loss: 0.511211  [140928/786991]\n",
            "loss: 0.546072  [153728/786991]\n",
            "loss: 0.469585  [166528/786991]\n",
            "loss: 0.494939  [179328/786991]\n",
            "loss: 0.501975  [192128/786991]\n",
            "loss: 0.499626  [204928/786991]\n",
            "loss: 0.530062  [217728/786991]\n",
            "loss: 0.495853  [230528/786991]\n",
            "loss: 0.524219  [243328/786991]\n",
            "loss: 0.530296  [256128/786991]\n",
            "loss: 0.507738  [268928/786991]\n",
            "loss: 0.518094  [281728/786991]\n",
            "loss: 0.535857  [294528/786991]\n",
            "loss: 0.549632  [307328/786991]\n",
            "loss: 0.529144  [320128/786991]\n",
            "loss: 0.460459  [332928/786991]\n",
            "loss: 0.484648  [345728/786991]\n",
            "loss: 0.526736  [358528/786991]\n",
            "loss: 0.530224  [371328/786991]\n",
            "loss: 0.510698  [384128/786991]\n",
            "loss: 0.498282  [396928/786991]\n",
            "loss: 0.519832  [409728/786991]\n",
            "loss: 0.518099  [422528/786991]\n",
            "loss: 0.495821  [435328/786991]\n",
            "loss: 0.520251  [448128/786991]\n",
            "loss: 0.540893  [460928/786991]\n",
            "loss: 0.512974  [473728/786991]\n",
            "loss: 0.517043  [486528/786991]\n",
            "loss: 0.525856  [499328/786991]\n",
            "loss: 0.534068  [512128/786991]\n",
            "loss: 0.519172  [524928/786991]\n",
            "loss: 0.516899  [537728/786991]\n",
            "loss: 0.494634  [550528/786991]\n",
            "loss: 0.519129  [563328/786991]\n",
            "loss: 0.516977  [576128/786991]\n",
            "loss: 0.500937  [588928/786991]\n",
            "loss: 0.547832  [601728/786991]\n",
            "loss: 0.500376  [614528/786991]\n",
            "loss: 0.506408  [627328/786991]\n",
            "loss: 0.490676  [640128/786991]\n",
            "loss: 0.471317  [652928/786991]\n",
            "loss: 0.524337  [665728/786991]\n",
            "loss: 0.530251  [678528/786991]\n",
            "loss: 0.515024  [691328/786991]\n",
            "loss: 0.526774  [704128/786991]\n",
            "loss: 0.528210  [716928/786991]\n",
            "loss: 0.529833  [729728/786991]\n",
            "loss: 0.516175  [742528/786991]\n",
            "loss: 0.554262  [755328/786991]\n",
            "loss: 0.482454  [768128/786991]\n",
            "loss: 0.512459  [780928/786991]\n",
            "Performance: \n",
            " R^2: 0.497917, RMSE: 0.707252 \n",
            "\n",
            "Epoch 6\n",
            "-------------------------------\n",
            "loss: 0.491898  [  128/786991]\n",
            "loss: 0.505389  [12928/786991]\n",
            "loss: 0.459625  [25728/786991]\n",
            "loss: 0.468367  [38528/786991]\n",
            "loss: 0.483331  [51328/786991]\n",
            "loss: 0.486526  [64128/786991]\n",
            "loss: 0.557994  [76928/786991]\n",
            "loss: 0.525565  [89728/786991]\n",
            "loss: 0.535426  [102528/786991]\n",
            "loss: 0.519061  [115328/786991]\n",
            "loss: 0.536771  [128128/786991]\n",
            "loss: 0.497391  [140928/786991]\n",
            "loss: 0.556042  [153728/786991]\n",
            "loss: 0.529807  [166528/786991]\n",
            "loss: 0.513901  [179328/786991]\n",
            "loss: 0.532348  [192128/786991]\n",
            "loss: 0.515171  [204928/786991]\n",
            "loss: 0.516357  [217728/786991]\n",
            "loss: 0.540140  [230528/786991]\n",
            "loss: 0.515158  [243328/786991]\n",
            "loss: 0.490826  [256128/786991]\n",
            "loss: 0.492049  [268928/786991]\n",
            "loss: 0.553746  [281728/786991]\n",
            "loss: 0.541684  [294528/786991]\n",
            "loss: 0.518510  [307328/786991]\n",
            "loss: 0.518761  [320128/786991]\n",
            "loss: 0.522122  [332928/786991]\n",
            "loss: 0.513763  [345728/786991]\n",
            "loss: 0.500519  [358528/786991]\n",
            "loss: 0.536800  [371328/786991]\n",
            "loss: 0.524832  [384128/786991]\n",
            "loss: 0.475757  [396928/786991]\n",
            "loss: 0.513490  [409728/786991]\n",
            "loss: 0.539264  [422528/786991]\n",
            "loss: 0.534244  [435328/786991]\n",
            "loss: 0.522292  [448128/786991]\n",
            "loss: 0.516707  [460928/786991]\n",
            "loss: 0.484940  [473728/786991]\n",
            "loss: 0.483534  [486528/786991]\n",
            "loss: 0.509377  [499328/786991]\n",
            "loss: 0.525744  [512128/786991]\n",
            "loss: 0.477391  [524928/786991]\n",
            "loss: 0.493315  [537728/786991]\n",
            "loss: 0.486917  [550528/786991]\n",
            "loss: 0.517874  [563328/786991]\n",
            "loss: 0.498051  [576128/786991]\n",
            "loss: 0.506699  [588928/786991]\n",
            "loss: 0.493630  [601728/786991]\n",
            "loss: 0.491969  [614528/786991]\n",
            "loss: 0.530247  [627328/786991]\n",
            "loss: 0.477532  [640128/786991]\n",
            "loss: 0.484117  [652928/786991]\n",
            "loss: 0.505761  [665728/786991]\n",
            "loss: 0.507976  [678528/786991]\n",
            "loss: 0.519402  [691328/786991]\n",
            "loss: 0.518921  [704128/786991]\n",
            "loss: 0.533733  [716928/786991]\n",
            "loss: 0.529015  [729728/786991]\n",
            "loss: 0.472837  [742528/786991]\n",
            "loss: 0.500372  [755328/786991]\n",
            "loss: 0.510997  [768128/786991]\n",
            "loss: 0.479158  [780928/786991]\n",
            "Performance: \n",
            " R^2: 0.492981, RMSE: 0.710725 \n",
            "\n",
            "Done!\n"
          ]
        }
      ]
    },
    {
      "cell_type": "markdown",
      "source": [
        "Now that the model is finished training, we can test it. The performance metrics indicated above reflect performance in the validation set, but that could be inflated. Using the completely held-out test set should give us an unbiased assay of autoencoder performance."
      ],
      "metadata": {
        "id": "WlV-ghLHp_EF"
      }
    },
    {
      "cell_type": "code",
      "source": [
        "test_nn(test_dataloader, ae, loss);"
      ],
      "metadata": {
        "colab": {
          "base_uri": "https://localhost:8080/"
        },
        "id": "1FYx9kTupcBb",
        "outputId": "00439910-b6d5-4876-bbc0-9795b2b383a9"
      },
      "execution_count": null,
      "outputs": [
        {
          "output_type": "stream",
          "name": "stdout",
          "text": [
            "Performance: \n",
            " R^2: 0.492630, RMSE: 0.710772 \n",
            "\n"
          ]
        }
      ]
    },
    {
      "cell_type": "markdown",
      "source": [
        "As we can see, the autoencoder does outperform the PCA solution, explaining about 3%-points more of the variance in individual item responses. The differences in performance between the PCA and autoencoder are small, but similar in magnitude to the difference between the PCA and survey scoring methods. This suggests that the assumption of nonlinearity is wrong to about the same degree as the assumption of equal item weighting in this case."
      ],
      "metadata": {
        "id": "LPO5rAlyxNN1"
      }
    },
    {
      "cell_type": "markdown",
      "source": [
        "## Comparing autoencoder representations to scoring\n",
        "\n",
        "In order to use the autoencoder to encode data in its compressed 5d bottleneck space, we cut the network in half - removing the decoder so that the bottleneck layer becomes the output layer.\n",
        "\n",
        "\n"
      ],
      "metadata": {
        "id": "d6xUaMVCqOdm"
      }
    },
    {
      "cell_type": "code",
      "source": [
        "# create encoder-only class to extract bottleneck representations\n",
        "class encoder(nn.Module):\n",
        "            def __init__(self):\n",
        "                super().__init__()\n",
        "                self.features = nn.Sequential(\n",
        "                    *list(ae.layer_stack.children())[:-16]\n",
        "                )\n",
        "            def forward(self, x):\n",
        "                x = self.features(x)\n",
        "                return x\n",
        "eonly = encoder()\n",
        "\n",
        "# create representation extraction function\n",
        "def ae_code(x,model):\n",
        "    x = x.to(device)\n",
        "    pred = model(x)\n",
        "    return pred.cpu().detach().numpy()\n",
        "\n",
        "# extract test set representation\n",
        "aec = ae_code(test_tensor,eonly)"
      ],
      "metadata": {
        "id": "OQsoMmXFlHJn"
      },
      "execution_count": null,
      "outputs": []
    },
    {
      "cell_type": "code",
      "source": [
        "# calculate out of sample correlation between rotated embedding and Big 5 scores\n",
        "\n",
        "# preparation\n",
        "aec = pd.DataFrame(aec)\n",
        "zaec = aec.apply(zscore)\n",
        "ztestScored = testScored.apply(zscore)\n",
        "\n",
        "rmats = np.zeros((5,5))\n",
        "n = aec.shape[0]\n",
        "\n",
        "# learn procrutes rotation on one half of data\n",
        "sel = np.random.choice(n,int(np.round(n/2)),replace=False)\n",
        "R = orthogonal_procrustes(zaec.iloc[sel,],ztestScored.iloc[sel,])\n",
        "\n",
        "# rotate other half of data\n",
        "nsel = [x for x in range(n) if x not in sel]\n",
        "zraec = np.dot(zaec.iloc[nsel,],R[0])\n",
        "\n",
        "# populate correlation matrix\n",
        "for i in range(5):\n",
        "    for j in range(5):\n",
        "        rmats[i,j] = np.corrcoef(ztestScored.iloc[nsel,i],zraec[:,j])[0,1]"
      ],
      "metadata": {
        "id": "DAqPetiNmZSP"
      },
      "execution_count": null,
      "outputs": []
    },
    {
      "cell_type": "code",
      "source": [
        "# plot results\n",
        "plt.figure(figsize=(8, 8))\n",
        "sns.set(font_scale=1.4)\n",
        "tlabs = ['extraversion', 'stability', 'agreeableness', 'conscientiousness', 'openness']\n",
        "nlabs = ['code' + str(i+1) for i in range(5)]\n",
        "sns.heatmap(rmats,xticklabels=nlabs,yticklabels=tlabs,vmin=0.,vmax=1.)"
      ],
      "metadata": {
        "colab": {
          "base_uri": "https://localhost:8080/",
          "height": 625
        },
        "id": "qKBE0M7m0Dct",
        "outputId": "a96ff2b5-53fc-4b58-e616-55cf50e7cb1f"
      },
      "execution_count": null,
      "outputs": [
        {
          "output_type": "execute_result",
          "data": {
            "text/plain": [
              "<Axes: >"
            ]
          },
          "metadata": {},
          "execution_count": 21
        },
        {
          "output_type": "display_data",
          "data": {
            "text/plain": [
              "<Figure size 800x800 with 2 Axes>"
            ],
            "image/png": "[encoded data removed]"
          },
          "metadata": {}
        }
      ]
    },
    {
      "cell_type": "markdown",
      "source": [
        "## Conclusion\n",
        "\n",
        "As we've seen, an autoencoder can learn a representation of personality very similar to that derived via PCA, as well as by the intended scoring of the IPIP Big 5 survey. The autoencoder performs slightly better at reconstructing individual item responses out of sample, but the difference is relatively small. This small difference likely reflects the fact that personality survey questions are selected for their good *linear* response properties. Items with nonlinear response properties would likely be filtered out during the scale construction process. As such, there is little benefit to using a model that can capitalize on nonlinear structure, since this structure has been excluded by design. That said, it's possible that one could construct more efficient (i.e., shorter) scales using questions with nonlinear response properties, provided that one used a model like an autoencoder, rather than a linear model like PCA or summation of ratings, to score people's responses.\n",
        "\n",
        "If you're interested in learning more about autoencoders, the two of the most popular extensions of this method are:\n",
        "* De-noising autoencoders: rather than feeding the model the exact same data as both input and output, the training inputs to a de-noising autoencoder consist of outputs with noise artificially added to them. Since the desired outputs don't have this noise, the model learns to remove the noise from the inputs (in addition to compressing them). These models can then be used to de-noise genuinely noise data, provided that the noise in the real data has the same statistical properties as the artificial noise in the training data.\n",
        "* Variational autoencoders: variational autoencoders (VAEs) feature probabilistic hidden units in their bottleneck layer. This means that each of these units represents a distribution, rather than a single value. These probabilistic units allow the VAEs to become generative models, capable of producing novel outputs by interpolating within their latent bottleneck representations."
      ],
      "metadata": {
        "id": "oKLCCDZzrTWp"
      }
    }
  ]
}